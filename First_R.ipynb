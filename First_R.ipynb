{
 "cells": [
  {
   "cell_type": "markdown",
   "metadata": {},
   "source": [
    "# Question 1\n",
    "\n",
    "### Part a\n",
    "\n"
   ]
  },
  {
   "cell_type": "code",
   "execution_count": 20,
   "metadata": {
    "scrolled": true
   },
   "outputs": [
    {
     "data": {
      "text/html": [
       "<table>\n",
       "<tbody>\n",
       "\t<tr><td>3</td><td>4</td></tr>\n",
       "\t<tr><td>4</td><td>4</td></tr>\n",
       "\t<tr><td>5</td><td>4</td></tr>\n",
       "</tbody>\n",
       "</table>\n"
      ],
      "text/latex": [
       "\\begin{tabular}{ll}\n",
       "\t 3 & 4\\\\\n",
       "\t 4 & 4\\\\\n",
       "\t 5 & 4\\\\\n",
       "\\end{tabular}\n"
      ],
      "text/markdown": [
       "\n",
       "| 3 | 4 | \n",
       "| 4 | 4 | \n",
       "| 5 | 4 | \n",
       "\n",
       "\n"
      ],
      "text/plain": [
       "     [,1] [,2]\n",
       "[1,] 3    4   \n",
       "[2,] 4    4   \n",
       "[3,] 5    4   "
      ]
     },
     "metadata": {},
     "output_type": "display_data"
    },
    {
     "data": {
      "text/html": [
       "<table>\n",
       "<tbody>\n",
       "\t<tr><td>0.2393797 </td><td>0.05060807</td><td>2.2054558 </td></tr>\n",
       "\t<tr><td>0.9186837 </td><td>0.35232720</td><td>0.2745424 </td></tr>\n",
       "\t<tr><td>0.9596060 </td><td>1.60235135</td><td>0.6785510 </td></tr>\n",
       "\t<tr><td>1.6217339 </td><td>1.65827354</td><td>0.1413621 </td></tr>\n",
       "</tbody>\n",
       "</table>\n"
      ],
      "text/latex": [
       "\\begin{tabular}{lll}\n",
       "\t 0.2393797  & 0.05060807 & 2.2054558 \\\\\n",
       "\t 0.9186837  & 0.35232720 & 0.2745424 \\\\\n",
       "\t 0.9596060  & 1.60235135 & 0.6785510 \\\\\n",
       "\t 1.6217339  & 1.65827354 & 0.1413621 \\\\\n",
       "\\end{tabular}\n"
      ],
      "text/markdown": [
       "\n",
       "| 0.2393797  | 0.05060807 | 2.2054558  | \n",
       "| 0.9186837  | 0.35232720 | 0.2745424  | \n",
       "| 0.9596060  | 1.60235135 | 0.6785510  | \n",
       "| 1.6217339  | 1.65827354 | 0.1413621  | \n",
       "\n",
       "\n"
      ],
      "text/plain": [
       "     [,1]      [,2]       [,3]     \n",
       "[1,] 0.2393797 0.05060807 2.2054558\n",
       "[2,] 0.9186837 0.35232720 0.2745424\n",
       "[3,] 0.9596060 1.60235135 0.6785510\n",
       "[4,] 1.6217339 1.65827354 0.1413621"
      ]
     },
     "metadata": {},
     "output_type": "display_data"
    }
   ],
   "source": [
    "a <- c(3,4,5,4,4,4)\n",
    "a <- matrix(a,ncol=2) \n",
    "\n",
    "a\n",
    "\n",
    "b <- matrix(rexp(12), ncol=3)\n",
    "\n",
    "b"
   ]
  },
  {
   "cell_type": "markdown",
   "metadata": {},
   "source": [
    "$$c = \\sqrt{a^2 + b^2}$$"
   ]
  },
  {
   "cell_type": "markdown",
   "metadata": {},
   "source": [
    "$$ \\int_\\infty f(x) dx +\\sum_{i=1}^N h_i $$\n",
    "\n",
    "$$ \\int_\\Re f(x) dx +\\sum_{i=1}^N h_i $$"
   ]
  },
  {
   "cell_type": "code",
   "execution_count": null,
   "metadata": {},
   "outputs": [],
   "source": []
  },
  {
   "cell_type": "markdown",
   "metadata": {},
   "source": [
    "\n",
    "\\begin{align}\n",
    "\\nabla \\times \\vec{\\mathbf{B}} -\\, \\frac1c\\, \\frac{\\partial\\vec{\\mathbf{E}}}{\\partial t} & = \\frac{4\\pi}{c}\\vec{\\mathbf{j}} \\\\\n",
    "\\nabla \\cdot \\vec{\\mathbf{E}} & = 4 \\pi \\rho \\\\\n",
    "\\nabla \\times \\vec{\\mathbf{E}}\\, +\\, \\frac1c\\, \\frac{\\partial\\vec{\\mathbf{B}}}{\\partial t} & = \\vec{\\mathbf{0}} \\\\\n",
    "\\nabla \\cdot \\vec{\\mathbf{B}} & = 0\n",
    "\\end{align}\n"
   ]
  },
  {
   "cell_type": "code",
   "execution_count": null,
   "metadata": {},
   "outputs": [],
   "source": []
  }
 ],
 "metadata": {
  "kernelspec": {
   "display_name": "R",
   "language": "R",
   "name": "ir"
  },
  "language_info": {
   "codemirror_mode": "r",
   "file_extension": ".r",
   "mimetype": "text/x-r-source",
   "name": "R",
   "pygments_lexer": "r",
   "version": "3.2.3"
  }
 },
 "nbformat": 4,
 "nbformat_minor": 2
}
